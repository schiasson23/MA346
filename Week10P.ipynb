{
  "nbformat": 4,
  "nbformat_minor": 0,
  "metadata": {
    "colab": {
      "provenance": [],
      "collapsed_sections": []
    },
    "kernelspec": {
      "name": "python3",
      "display_name": "Python 3"
    },
    "language_info": {
      "name": "python"
    }
  },
  "cells": [
    {
      "cell_type": "code",
      "execution_count": null,
      "metadata": {
        "id": "JQ-5HHNqZf0-"
      },
      "outputs": [],
      "source": [
        "import numpy as np\n",
        "import pandas as pd\n",
        "import scipy.stats as stats"
      ]
    },
    {
      "cell_type": "markdown",
      "source": [
        "# Introduction\n",
        "\n",
        "For this week's notebook exercise we'll be training our fundamentals. Note, one of my goals for the class was to ensure that everyone had seen the code for subsetting a dataframe a thousand times within the semester. Though it may seem mundane, operations like subsetting are so essential to data wrangling, underpin so many other complex manipulations, that you can seldom get \"too good\" at them. The tricky part is to keep things interesting."
      ],
      "metadata": {
        "id": "AwhM4AepGLIK"
      }
    },
    {
      "cell_type": "markdown",
      "source": [
        "# Assignment\n",
        "\n",
        "Let's pretend that you work for an automobile regulatory agency. One of the key questions you have is the relationship between city gas mileage and highway gas mileage. Generally, city gas mileage is consistently lower than highway gas mileage, just given the necessity of stopping-and-starting with traffic lights, stop signs, crosswalks, etc. But *across* cars, city mileage should track closely to highway mileage, gas efficiency being an intrinsic part of a car's design.\n",
        "\n",
        "Run the code chunk below to get your dataset (note I've tampered with this otherwise real data set for the sake of this assignment), and answer the following questions:\n",
        "\n",
        "1) Create a new variable called `hwylesscty` that's defined as the highway mileage minus the city mileage for each car. Highway mileage is given by the variable `hwy`, and city mileage is given by the variable `cty` What's the $IQR$ for this variable? (Recall, $IQR$ is the 3rd quartile minus the 1st quartile)\n",
        "\n",
        "2) How many cars are outliers with regard to `hwylesscty`? (We'll define outliers as values that are $1.5^*IQR$ greater than the 3rd quartile, or $1.5^*IQR$ less than the 1st quartile.)\n",
        "\n",
        "3) What's the correlation between highway mileage and city mileage when considering all observations?\n",
        "\n",
        "4) What's the correlation between highway mileage and city mileage when considering only non-outliers?\n",
        "\n",
        "5) Calculate (but don't report) the correlation between highway mileage and city mileage for cars from 1999 and again for cars from 2008. What's the difference in the two correlation statistics?"
      ],
      "metadata": {
        "id": "nyAoEt0iF854"
      }
    },
    {
      "cell_type": "code",
      "source": [
        "#!!!DO NOT TOUCH ANYTHING BELOW HERE!!!#\n",
        "def func_datgen(pernoseq):\n",
        "  np.random.seed(pernoseq)\n",
        "  tempdat = pd.read_csv('https://raw.githubusercontent.com/tidyverse/ggplot2/main/data-raw/mpg.csv')\n",
        "  tempdat = tempdat.loc[np.random.choice(np.arange(0, len(tempdat)), int((len(tempdat)/2)), replace = False)]\n",
        "  targetidx = np.random.choice(np.arange(0, len(tempdat)), np.random.choice(np.arange(10, 15)), replace = False)\n",
        "  tempdat = tempdat.reset_index(drop = True)\n",
        "  tempdat.loc[targetidx, 'hwy'] = tempdat.loc[targetidx, 'hwy'] + np.random.uniform(6, 8, len(targetidx))\n",
        "  tempdat.loc[targetidx, 'cty'] = tempdat.loc[targetidx, 'cty'] + np.random.uniform(-8, -6, len(targetidx))\n",
        "  return tempdat\n",
        "#!!!DO NOT TOUCH ANYTHING ABOVE HERE!!!#"
      ],
      "metadata": {
        "id": "ou7BuP99rTWk"
      },
      "execution_count": null,
      "outputs": []
    },
    {
      "cell_type": "code",
      "source": [
        "cardat = func_datgen()"
      ],
      "metadata": {
        "id": "fzzwzzsqsODS"
      },
      "execution_count": null,
      "outputs": []
    },
    {
      "cell_type": "code",
      "source": [
        "#This code chunk demonstrates how to export your answers into a .csv file\n",
        "#Fill in each part with your answers:\n",
        "  #exportobj = pd.DataFrame({'PerNoSeq': ,'Question1': , 'Question2': , 'Question3': , 'Question4': , 'Question5':, 'CollaboratorNames':})\n",
        "      #Note, fill in with '' if no collaborators; if multiple, type names in one '' separated with commas\n",
        "          #For example: pd.DataFrame({'PerNoSeq': [12345],'Question1': ['Ifrit'], 'Question2': ['Gaia'], 'Question3': ['Horus'], 'Question4': [999], 'Question5': [999], 'CollaboratorNames': ['Eddie Kim, Kimber Brown, Meryl Streep']})\n",
        "\n",
        "#Then, export your object with the code below\n",
        "  #exportobj.to_csv(\"EddieKimWeekW10.csv\") <- change the name to your own!\n",
        "    #Remember that after exporting, the file will appear in the \"Files\" tab (check the LHS of the screen); from there, download onto your machine, and upload it to Blackboard"
      ],
      "metadata": {
        "id": "6FQYZ_EdwVHn"
      },
      "execution_count": null,
      "outputs": []
    },
    {
      "cell_type": "markdown",
      "source": [
        "Based on the personal number sequence `12345`, the answers to the above questions should be as follows:\n",
        "\n",
        "1: 4.0\n",
        "\n",
        "2: 10\n",
        "\n",
        "3: 0.738\n",
        "\n",
        "4: 0.952\n",
        "\n",
        "5: 0.0717"
      ],
      "metadata": {
        "id": "2MNlw8npwZKX"
      }
    }
  ]
}